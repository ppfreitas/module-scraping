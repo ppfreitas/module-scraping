{
 "cells": [
  {
   "cell_type": "code",
   "execution_count": 1,
   "metadata": {
    "autoscroll": false,
    "ein.hycell": false,
    "ein.tags": "worksheet-0",
    "slideshow": {
     "slide_type": "-"
    }
   },
   "outputs": [],
   "source": [
    "# Our jupyter/datascience-notebook Docker container comes with \n",
    "# BeautifulSoup4 and requests, both popular libraries!\n",
    "\n",
    "from bs4 import BeautifulSoup\n",
    "import requests"
   ]
  },
  {
   "cell_type": "code",
   "execution_count": 2,
   "metadata": {
    "autoscroll": false,
    "ein.hycell": false,
    "ein.tags": "worksheet-0",
    "slideshow": {
     "slide_type": "-"
    }
   },
   "outputs": [],
   "source": [
    "START_URL = 'https://brickset.com/sets/year-2016'\n",
    "\n",
    "res = requests.get(START_URL).content\n",
    "soup = BeautifulSoup(res)\n"
   ]
  },
  {
   "cell_type": "code",
   "execution_count": 3,
   "metadata": {},
   "outputs": [],
   "source": [
    "list = soup.select('h1 a')\n",
    "#look for nodes"
   ]
  },
  {
   "cell_type": "code",
   "execution_count": 4,
   "metadata": {},
   "outputs": [
    {
     "name": "stdout",
     "output_type": "stream",
     "text": [
      "['10251:  Brick Bank', '10252:  Volkswagen Beetle', '10253:  Big Ben', '10254:  Winter Holiday Train', '10654:  XL Creative Brick Box', '10702:  Creative Building Set', '10705:  Creative Building Basket', '10720:  Police Helicopter Chase', '10721:  Iron Man vs. Loki', '10722:  Snake Showdown', \"10723:  Ariel's Dolphin Carriage\", '10724:  Batman & Superman vs. Lex Luthor', '10725:  Lost Temple', \"10726:  Stephanie's Horse Carriage\", \"10727:  Emma's Ice Cream Truck\", \"10728:  Mia's Vet Clinic\", \"10729:  Cinderella's Carriage\", '10801:  Baby Animals', '10802:  Savanna', '10803:  Arctic', '10804:  Jungle', '10805:  Around the World', '10806:  Horses', '10807:  Horse Trailer', '10808:  Little Plane']\n"
     ]
    }
   ],
   "source": [
    "bar = [i.get_text() for i in list]\n",
    "print(bar)"
   ]
  },
  {
   "cell_type": "code",
   "execution_count": 5,
   "metadata": {
    "autoscroll": false,
    "ein.hycell": false,
    "ein.tags": "worksheet-0",
    "slideshow": {
     "slide_type": "-"
    }
   },
   "outputs": [],
   "source": [
    "# Exercise #1: Get the titles for each \"brickset\" on the first page\n",
    "\n",
    "def get_titles(soup):\n",
    "    list = soup.select('h1 a')\n",
    "    bar = [i.get_text() for i in list]\n",
    "    return bar\n",
    "\n",
    "    \"\"\" Returns a list of titles on the page \"\"\"\n",
    "\n",
    "    # the \"soup\" parameter is of the type that is\n",
    "    # returned by Beautiful Soup when it parses HTML.\n",
    "    # The function should then use the object to\n",
    "    # extract a list of titles (of the lego sets)\n",
    "    #\n",
    "    # Lookup the documentation for Beautiful Soup\n",
    "    # Figure out how to select the text of the title\n",
    "    # of each legoset. A title should look like: \n",
    "    # \"10252: Volkswagen Beetle\"\n",
    "\n",
    "def parse_bricks(url):\n",
    "    \"\"\" Fetches Lego Bricks page and extracts titles \"\"\"\n",
    "    page = requests.get(url)\n",
    "    soup = BeautifulSoup(page.content, 'html.parser')\n",
    "    titles = get_titles(soup)\n",
    "    return titles\n",
    "    # Lookup the documentation to the \"requests\" library\n",
    "    #\n",
    "    # Use requests to make a get request to the\n",
    "    # url given in the argument \"url\" (which is a string)\n",
    "    # and get the raw HTML body of the response\n",
    "    #\n",
    "    # Use \"BeautifulSoup\" to parse this HTML. \n",
    "    #\n",
    "    # Use the \"get_titles\" function to extract the\n",
    "    # titles from the BeautifulSoup object.\n",
    "    #\n",
    "    # Return the titles"
   ]
  },
  {
   "cell_type": "code",
   "execution_count": 6,
   "metadata": {
    "autoscroll": false,
    "ein.hycell": false,
    "ein.tags": "worksheet-0",
    "slideshow": {
     "slide_type": "-"
    }
   },
   "outputs": [
    {
     "name": "stdout",
     "output_type": "stream",
     "text": [
      "['10251:  Brick Bank', '10252:  Volkswagen Beetle', '10253:  Big Ben', '10254:  Winter Holiday Train', '10654:  XL Creative Brick Box', '10702:  Creative Building Set', '10705:  Creative Building Basket', '10720:  Police Helicopter Chase', '10721:  Iron Man vs. Loki', '10722:  Snake Showdown', \"10723:  Ariel's Dolphin Carriage\", '10724:  Batman & Superman vs. Lex Luthor', '10725:  Lost Temple', \"10726:  Stephanie's Horse Carriage\", \"10727:  Emma's Ice Cream Truck\", \"10728:  Mia's Vet Clinic\", \"10729:  Cinderella's Carriage\", '10801:  Baby Animals', '10802:  Savanna', '10803:  Arctic', '10804:  Jungle', '10805:  Around the World', '10806:  Horses', '10807:  Horse Trailer', '10808:  Little Plane']\n"
     ]
    }
   ],
   "source": [
    "bricks = parse_bricks(START_URL)\n",
    "print(bricks)"
   ]
  },
  {
   "cell_type": "code",
   "execution_count": null,
   "metadata": {
    "autoscroll": false,
    "ein.hycell": false,
    "ein.tags": "worksheet-0",
    "slideshow": {
     "slide_type": "-"
    }
   },
   "outputs": [],
   "source": [
    "assert(bricks[0] == '10251:  Brick Bank')\n",
    "assert(bricks[9] == '10722:  Snake Showdown')"
   ]
  },
  {
   "cell_type": "code",
   "execution_count": 8,
   "metadata": {
    "autoscroll": false,
    "ein.hycell": false,
    "ein.tags": "worksheet-0",
    "slideshow": {
     "slide_type": "-"
    }
   },
   "outputs": [
    {
     "name": "stdout",
     "output_type": "stream",
     "text": [
      "['10251:  Brick Bank', '10252:  Volkswagen Beetle', '10253:  Big Ben', '10254:  Winter Holiday Train', '10654:  XL Creative Brick Box', '10702:  Creative Building Set', '10705:  Creative Building Basket', '10720:  Police Helicopter Chase', '10721:  Iron Man vs. Loki', '10722:  Snake Showdown', \"10723:  Ariel's Dolphin Carriage\", '10724:  Batman & Superman vs. Lex Luthor', '10725:  Lost Temple', \"10726:  Stephanie's Horse Carriage\", \"10727:  Emma's Ice Cream Truck\", \"10728:  Mia's Vet Clinic\", \"10729:  Cinderella's Carriage\", '10801:  Baby Animals', '10802:  Savanna', '10803:  Arctic', '10804:  Jungle', '10805:  Around the World', '10806:  Horses', '10807:  Horse Trailer', '10808:  Little Plane', '10809:  Police Patrol', '10810:  Push Train', '10811:  Backhoe Loader', '10812:  Truck & Tracked Excavator', '10813:  Big Construction Site', '10814:  Tow Truck', '10815:  My First Rocket', '10816:  My First Cars and Trucks', '10817:  Creative Chest', '10818:  My First Truck', '10819:  My First Garden', '10820:  Creative Construction Basket', '10822:  Sofia the First Magical Carriage', \"10824:  Miles' Space Adventures\", \"10825:  Miles' Exo-Flex Suit\", \"10826:  Miles' Stellosphere Hangar\", '10827:  Mickey & Friends Beach House', \"10828:  Doc McStuffins' Pet Vet Care\", \"10829:  Mickey's Workshop\", \"10830:  Minnie's Café\", '10831:  My First Caterpillar', '11911:  City: Build Your Own Adventure parts', '11912:  LEGO Star Wars: Build Your Own Adventure', '21026:  Venice', '21027:  Berlin', '21028:  New York City', '21029:  Buckingham Palace', '21030:  United States Capitol Building', '21031:  Burj Khalifa', '21123:  The Iron Golem', '21124:  The End Portal', '21125:  The Jungle Tree House', '21126:  The Wither', '21127:  The Fortress', '21128:  The Village', '21305:  Maze', '21306:  The Beatles Yellow Submarine', '21307:  Caterham Seven 620R', '30277:  First Order Star Destroyer', \"30278:  Poe's X-wing Fighter\", \"30279:  Kylo Ren's Command Shuttle\", '30321:  Duck', '30322:  Wildlife {Random bag}', '30322:  Wildlife - Polar Bear', '30322:  Wildlife - Penguin', '30322:  Wildlife - Tortoise', '30322:  Wildlife - Lion Cub', '30322:  Wildlife - Elephant', '30346:  Prison Island Helicopter', '30347:  Fire Car', '30348:  Mini Dumper', '30349:  Sports Car', '30350:  Volcano Jackhammer', \"30371:  Knight's Cycle\", \"30372:  Robin's Mini Fortrex\", '30373:  Knighton Hyper Cannon', '30374:  The Lava Slinger', \"30375:  Sira's Adventurous Airglider\", '30396:  Cupcake Stall', \"30397:  Olaf's Summertime Fun\", '30398:  Adventure Camp Bridge', '30399:  Bowling Alley', '30421:  Skybound Plane', \"30422:  Kai's Mini Dragon\", '30423:  Anchor-Jet', '30424:  WU-CRU Training Dojo', '30446:  The Batmobile', \"30447:  Captain America's Motorcycle \", '30448:  Spider-Man vs. The Venom Symbiote', '30471:  Helicopter', '30472:  Parrot', '30473:  Racer', '30474:  Reindeer', '30601:  Scooby-Doo', '30602:  First Order Stormtrooper', '30603:  Batman Classic TV Series - Mr. Freeze', '30604:  Cosmic Boy', '30605:  Finn (FN-2187)', '30606:  Nightwing', '31040:  Desert Racers', '31041:  Construction Vehicles', '31042:  Super Soarer', '31043:  Chopper Transporter', '31044:  Park Animals', '31045:  Ocean Explorer', '31046:  Fast Car', '31047:  Propeller Plane', '31048:  Lakeside Lodge', '31049:  Twin Spin Helicopter', '31050:  Corner Deli', '31051:  Lighthouse Point', '31052:  Vacation Getaways', '31053:  Treehouse Adventures', '40127:  Space Shuttle (Uniqlo edition)', '40128:  Robot (Uniqlo edition)', '40130:  Koala (Uniqlo edition)', '40131:  Parrot (Uniqlo edition)', '40161:  What am I?', '40165:  Minifigure Wedding Favour Set', '40166:  LEGOLAND Train', '40167:  My First Set', '40179:  Personalised Mosaic Portrait', \"40201:  Valentine's Cupid Dog\", '40202:  Easter Chick', '40203:  Vampire and Bat', \"40204:  Pilgrim's Feast\", '40205:  Little Elf Helpers', '40206:  LEGO Santa', '40207:  Year of the Monkey', '40208:  Polar Bear', '40209:  Snowmobile', '40210:  Bunny', '40211:  Bee', '40212:  Hedgehog', '40213:  Seaplane', '40214:  Frog', '40215:  Apple', '40216:  School Bus', '40217:  Werewolf', '40218:  Fox', '40219:  Christmas Present', '40220:  London Bus', '40221:  Fountain', '40222:  Christmas Build-Up', '40223:  Snowglobe', '40225:  Rio 2016 Mascots', '40226:  Birthday Buddy', '40227:  MSC Meraviglia', '40228:  Geoffrey & Friends', \"41065:  Rapunzel's Best Day Ever\", \"41066:  Anna & Kristoff's Sleigh Adventure\", \"41067:  Belle's Enchanted Castle\", '41068:  Arendelle Castle Celebration', \"41069:  Treasure's Day at the Pool\", '41110:  Birthday Party', '41111:  Party Train', '41112:  Party Cakes', '41113:  Party Gift Shop', '41114:  Party Styling', \"41115:  Emma's Creative Workshop\", \"41116:  Olivia's Exploration Car\", '41117:  Pop Star TV Studio', '41118:  Heartlake Supermarket', '41119:  Heartlake Cupcake Cafe', '41120:  Adventure Camp Archery', '41121:  Adventure Camp Rafting', '41122:  Adventure Camp Tree House', \"41123:  Foal's Washing Station\", '41124:  Heartlake Puppy Daycare', '41125:  Horse Vet Trailer', '41126:  Heartlake Riding Club', '41127:  Amusement Park Arcade', '41128:  Amusement Park Space Ride', '41129:  Amusement Park Hot Dog Van', '41130:  Amusement Park Roller Coaster', '41131:  Friends Advent Calendar', '41132:  Heartlake Party Shop', '41133:  Amusement Park Bumper Cars', '41134:  Heartlake Performance School', \"41135:  Livi's Pop Star House\", \"41140:  Daisy's Beauty Salon\", \"41141:  Pumpkin's Royal Carriage\", '41142:  Palace Pets Royal Castle', '41171:  Emily Jones & the Baby Wind Dragon', '41172:  The Water Dragon Adventure', '41173:  Elvendale School of Dragons', '41174:  The Starlight Inn', \"41175:  Fire Dragon's Lava Cave\", '41176:  The Secret Market Place', '41177:  The Precious Crystal Mine', '41178:  The Dragon Sanctuary', \"41179:  Queen Dragon's Rescue\", \"41180:  Ragana's Magic Shadow Castle\", '41490:  Superman & Wonder Woman', '41491:  Batman & The Joker', '41492:  Iron Man & Captain America', '41493:  Black Panther & Doctor Strange', '41554:  Kuffs', '41555:  Busto', '41556:  Tiketz', '41557:  Camillot', '41558:  Mixadel', '41559:  Paladum', '41560:  Jamzy', '41561:  Tapsy', '41562:  Trumpsy', '41563:  Splasho', '41564:  Aquad', '41565:  Hydro', '41566:  Sharx', '41567:  Skulzy', '41568:  Lewt', '41569:  Surgeo', '41570:  Skrubz', '41571:  Tuth', '41572:  Gobbol', '41573:  Sweepz', '41574:  Compax', '41575:  Cobrax', '41576:  Spinza', '41577:  Mysto', '41578:  Screeno', '41579:  Camsta', '41580:  Myke', '42044:  Display Team Jet', '42045:  Hydroplane Racer', '42046:  Getaway Racer', '42047:  Police Interceptor', '42048:  Race Kart', '42049:  Mine Loader', '42050:  Drag Racer', '42052:  Heavy Lift Helicopter', '42053:  Volvo EW160E', '42054:  CLAAS XERION 5000 TRAC VC', '42055:  Bucket Wheel Excavator', '42056:  Porsche 911 GT3 RS', '45012:  Wild Animals Set', '45014:  StoryTales Set', '45016:  Tubes Experiment Set', '45017:  Playground Set', \"45018:  Build Me 'Emotions'\", '45019:  Creative LEGO DUPLO Brick Set', '45020:  Creative LEGO Brick Set', '45300:  WeDo 2.0 Core Set', '45301:  WeDo 2.0 Smart Hub', '45302:  WeDo 2.0 Smarthub Rechargeable Battery', '45303:  WeDo 2.0 Medium Motor', '45304:  WeDo 2.0 Motion Sensor', '45305:  WeDo 2.0 Tilt Sensor', '45802:  Animal Allies', '45803:  Creature Craze Inspire Set', '45811:  World Robot Olympiad Brick Set', '60100:  Airport Starter Set', '60101:  Airport Cargo Plane', '60102:  Airport VIP Service', '60103:  Airport Air Show', '60104:  Airport Passenger Terminal', '60105:  Fire ATV', '60106:  Fire Starter Set', '60107:  Fire Ladder Truck', '60108:  Fire Response Unit', '60109:  Fire Boat', '60110:  Fire Station', '60111:  Fire Utility Truck', '60112:  Fire Engine', '60113:  Rally Car', '60114:  Race Boat', '60115:  4 x 4 Off Roader', '60116:  Ambulance Plane', '60117:  Van & Caravan', '60118:  Garbage Truck', '60119:  Ferry', '60120:  Volcano Starter Set', '60121:  Volcano Exploration Truck', '60122:  Volcano Crawler', '60123:  Volcano Supply Helicopter', '60124:  Volcano Exploration Base', '60125:  Volcano Heavy-Lift Helicopter', '60126:  Tire Escape', '60127:  Prison Island Starter Set', '60128:  Police Pursuit', '60129:  Police Patrol Boat', '60130:  Prison Island', '60131:  Crooks Island', '60132:  Service Station', '60133:  City Advent Calendar', '60134:  People Pack - Fun in the Park', '66537:  3-in-1 Super Pack', '66538:  Forests Value Pack', '66539:  Heartlake Value Pack', '66540:  City Volcano Value Pack', '66541:  City Fire Value Pack', '66542:  Microfighters Super Pack 3 in 1', '66543:  Microfighters Super Pack 3 in 1', '66545:  Mighty Micros Mighty Pack 3 in 1', \"66547:  Axl's Tower Carrier, Extra Awesome Edition\", '66548:  Rock Roader, Extra Awesome Edition', '66549:  Salvage M.E.C., Extra Awesome Edition', '70310:  Knighton Battle Blaster', '70311:  Chaos Catapult', \"70312:  Lance's Mecha Horse\", \"70313:  Moltor's Lava Smasher\", \"70314:  Beast Master's Chaos Chariot\", \"70315:  Clay's Rumble Blade\", \"70316:  Jestro's Evil Mobile\", '70317:  The Fortrex', '70318:  The Glob Lobber', \"70319:  Macy's Thunder Mace\", \"70320:  Aaron Fox's Aero-Striker V2\", \"70321:  General Magmar's Siege Machine of Doom\", \"70322:  Axl's Tower Carrier\", \"70323:  Jestro's Volcano Lair\", \"70324:  Merlok's Library 2.0\", '70325:  Infernox captures the Queen', '70326:  The Black Knight Mech', \"70327:  The King's Mech\", '70330:  Ultimate Clay', '70331:  Ultimate Macy', '70332:  Ultimate Aaron', '70333:  Ultimate Robin', '70334:  Ultimate Beast Master', '70335:  Ultimate Lavaria', '70336:  Ultimate Axl', '70337:  Ultimate Lance', '70338:  Ultimate General Magmar', '70339:  Ultimate Flama', '70588:  Titanium Ninja Tumbler ', '70589:  Rock Roader', '70590:  Airjitzu Battle Grounds', '70591:  Kryptarium Prison Breakout', '70592:  Salvage M.E.C.', '70593:  The Green NRG Dragon', '70594:  The Lighthouse Siege', '70595:  Ultra Stealth Raider', '70596:  Samurai X Cave Chaos', \"70599:  Cole's Dragon\", '70600:  Ninja Bike Chase', '70601:  Sky Shark', \"70602:  Jay's Elemental Dragon\", '70603:  Raid Zeppelin', '70604:  Tiger Widow Island', \"70605:  Misfortune's Keep\", '71011:  LEGO Minifigures - Series 15 {Random bag}', '71011:  Farmer', '71011:  Astronaut', '71011:  Frightening Knight', '71011:  Clumsy Guy', '71011:  Tribal Woman', '71011:  Flying Warrior', '71011:  Faun', '71011:  Animal Control Officer', '71011:  Janitor', '71011:  Ballerina', '71011:  Laser Mech', '71011:  Kendo Fighter', '71011:  Shark Suit Guy', '71011:  Wrestling Champion', '71011:  Jewel Thief', '71011:  Queen', '71011:  LEGO Minifigures - Series 15 - Complete', '71011:  LEGO Minifigures - Series 15 - Sealed Box', '71012:  LEGO Minifigures - The Disney Series {Random bag}', '71012:  Stitch', '71012:  Alien', '71012:  Buzz Lightyear', '71012:  Aladdin', '71012:  Genie', '71012:  Maleficent', '71012:  Alice', '71012:  Cheshire Cat', '71012:  Daisy Duck', '71012:  Donald Duck', '71012:  Minnie Mouse', '71012:  Mickey Mouse', '71012:  Mr. Incredible', '71012:  Syndrome', '71012:  Peter Pan', '71012:  Captain Hook', '71012:  Ursula', '71012:  Ariel', '71012:  LEGO Minifigures - The Disney Series - Complete', '71012:  LEGO Minifigures - The Disney Series - Sealed Box', '71013:  LEGO Minifigures - Series 16 {Random bag}', '71013:  Ice Queen', '71013:  Desert Warrior', '71013:  Cyborg', '71013:  Cute Little Devil', '71013:  Spooky Boy', '71013:  Hiker', '71013:  Wildlife Photographer', '71013:  Kickboxer', '71013:  Scallywag Pirate', '71013:  Penguin Boy', '71013:  Rogue', '71013:  Dog Show Winner', '71013:  Mariachi', '71013:  Spy', '71013:  Banana Guy', '71013:  Babysitter', '71013:  LEGO Minifigures - Series 16 - Complete', '71013:  LEGO Minifigures - Series 16 - Sealed Box', '71014:  LEGO Minifigures - DFB Series {Random bag}', '71014:  Joachim Löw', '71014:  Manuel Neuer', '71014:  Jérôme Boateng', '71014:  Mats Hummels', '71014:  Benedikt Höwedes', '71014:  Shkodran Mustafi', '71014:  Bastian Schweinsteiger', '71014:  Mesut Özil', '71014:  Thomas Müller', '71014:  Toni Kroos', '71014:  Sami Khedira', '71014:  André Schürrle', '71014:  Marco Reus', '71014:  Christoph Kramer', '71014:  Mario Götze', '71014:  Max Kruse', '71014:  LEGO Minifigures - DFB Series - Complete', '71014:  LEGO Minifigures - DFB Series - Sealed Box', '71040:  Disney Castle', '71228:  Ghostbusters Level Pack', '71229:  DC Comics Team Pack', '71230:  Doc Brown', '71233:  Stay Puft', '71234:  Sensei Wu', '71235:  Midway Arcade Level Pack', '71236:  Superman', '71237:  Aquaman', '71238:  Cyberman', '71239:  Lloyd', '71240:  Bane', '71241:  Slimer', '71242:  New Ghostbusters: Play the Complete Movie', '71244:  Sonic the Hedgehog Level Pack', '71245:  Adventure Time Level Pack', '71246:  Adventure Time Team Pack ', '71247:  Harry Potter Team Pack', '71248:  Mission Impossible Level Pack', '71251:  B.A. Baracus', '71253:  Fantastic Beasts and Where to Find Them: Play the Complete Movie', '71256:  Gremlins Team Pack', '71257:  Tina Goldstein', '71258:  E.T.', '71285:  Marceline the Vampire Queen', '71300:  Uxar - Creature of Jungle', '71301:  Ketar - Creature of Stone', '71302:  Akida - Creature of Water', '71303:  Ikir - Creature of Fire', '71304:  Terak - Creature of Earth', '71305:  Lewa - Uniter of Jungle', '71306:  Pohatu - Uniter of Stone', '71307:  Gali - Uniter of Water', '71308:  Tahu - Uniter of Fire', '71309:  Onua - Uniter of Earth', '71310:  Umarak the Hunter', '71311:  Kopaka and Melum - Unity set', '71312:  Ekimu the Mask Maker', '71313:  Lava Beast', '71314:  Storm Beast', '71315:  Quake Beast', '71316:  Umarak the Destroyer', '71340:  Supergirl', '71342:  Green Arrow', '75098:  Assault on Hoth', '75113:  Rey', '75114:  First Order Stormtrooper', '75115:  Poe Dameron', '75116:  Finn', '75117:  Kylo Ren', '75118:  Captain Phasma', '75119:  Sergeant Jyn Erso', '75120:  K-2SO', '75121:  Imperial Death Trooper', '75125:  Resistance X-wing Fighter', '75126:  First Order Snowspeeder', '75127:  The Ghost', '75128:  TIE Advanced Prototype', '75129:  Wookiee Gunship', '75130:  AT-DP', '75131:  Resistance Trooper Battle Pack', '75132:  First Order Battle Pack', '75133:  Rebel Alliance Battle Pack', '75134:  Galactic Empire Battle Pack', \"75135:  Obi-Wan's Jedi Interceptor\", '75136:  Droid Escape Pod', '75137:  Carbon-Freezing Chamber', '75138:  Hoth Attack', '75139:  Battle on Takodana', '75140:  Resistance Troop Transporter', \"75141:  Kanan's Speeder Bike\", '75142:  Homing Spider Droid', '75143:  {?}', '75145:  Eclipse Fighter', '75146:  Star Wars Advent Calendar', '75147:  StarScavenger', '75148:  Encounter on Jakku', '75149:  Resistance X-wing Fighter', \"75150:  Vader's TIE Advanced vs. A-wing Starfighter\", '75151:  Clone Turbo Tank', '75152:  Imperial Assault Hovertank', '75153:  AT-ST Walker', '75154:  TIE Striker', '75155:  Rebel U-wing Fighter', \"75156:  Krennic's Imperial Shuttle\", \"75157:  Captain Rex's AT-TE\", '75158:  Rebel Combat Frigate', '75159:  Death Star', '75821:  Piggy Car Escape', '75822:  Piggy Plane Attack', '75823:  Bird Island Egg Heist', '75824:  Pig City Teardown', '75825:  Piggy Pirate Ship', \"75826:  King Pig's Castle\", '75827:  Firehouse Headquarters ', '75828:  Ecto-1 & 2', '75870:  Chevrolet Corvette Z06', '75871:  Ford Mustang GT', '75872:  Audi R18 e-tron quattro', '75873:  Audi R8 LMS ultra', '75874:  Chevrolet Camaro Drag Race', '75875:  Ford F-150 Raptor & Ford Model A Hot Rod', '75876:  Porsche 919 Hybrid and 917K Pit Lane', '76044:  Clash of the Heroes', '76045:  Kryptonite Interception', '76046:  Heroes of Justice: Sky High Battle', '76047:  Black Panther Pursuit', '76048:  Iron Skull Sub Attack', '76049:  Avenjet Space Mission', \"76050:  Crossbones' Hazard Heist\", '76051:  Super Hero Airport Battle', '76052:  Batman Classic TV Series - Batcave', '76053:  Gotham City Cycle Chase', '76054:  Batman: Scarecrow Harvest of Fear', '76055:  Batman: Killer Croc Sewer Smash', \"76056:  Batman: Rescue from Ra's al Ghul\", '76057:  Spider-Man: Web Warriors Ultimate Bridge Battle', '76058:  Spider-Man: Ghost Rider Team-Up', \"76059:  Spider-Man: Doc Ock's Tentacle Trap\", \"76060:  Doctor Strange's Sanctum Sanctorum\", '76061:  Mighty Micros: Batman vs. Catwoman', '76062:  Mighty Micros: Robin vs. Bane', '76063:  Mighty Micros: The Flash vs. Captain Cold', '76064:  Mighty Micros: Spider-Man vs. Green Goblin', '76065:  Mighty Micros: Captain America vs. Red Skull', '76066:  Mighty Micros: Hulk vs. Ultron', '76067:  Tanker Truck Takedown', '241601:  Miku The Dragon', \"241602:  Jynx the Witch's Cat\", '271601:  Lance', '271602:  Jet Horse', '271603:  Robin', '271604:  Two Globlin Spiders', '271605:  Lava Warrior', '271606:  Knight Racer', '271607:  Firecracker Catapult', '271608:  Kid Clay', '271609:  Bat-Gun', '271610:  Mighty Mech Bot', '271611:  Pilot Bot', '471602:  Pony Grooming Kit', '561601:  Parrot and Nest', \"561602:  Valentine's Post Box\", '561603:  Dog on stage', '561604:  Chocolate Kitchen', '561605:  Ice Cream Cart', '561606:  Rabbit and hutch', '561607:  Happy Beach', '561608:  Cake stall', \"561609:  Olivia's Laboratory \", '561610:  Halloween Shop', '561611:  Gift wrapping table', '561612:  Christmas Fireplace', '601601:  Scorpion', '601602:  Ekimu Falcon', '850805:  Drinking Bottle—Blue', '850806:  Drinking Bottle Pink', '850817:  Drinking Bottle', '851332:  I Love LEGOLAND keychain, Male', '851354:  Wrayth', \"853503:  NEXO KNIGHTS Macy's Mace\", \"853504:  NEXO KNIGHTS Clay's Sword\", '853505:  NK Sword Standard', '853506:  NK Shield Standard', \"853507:  Knight's Power Up Shield\", \"853508:  Monster's Shield\", '853510:  NEXO KNIGHTS Knight s Dress Up', '853511:  FK Role Play Dress up Bad guy', '853515:  Knights Army-Building Set', '853516:  Monsters Army-Building Set', '853517:  NK Drinking Bottle', '853518:  NK Tumbler', '853519:  NK Playmat', '853520:  Aaron Key Chain', '853521:  Clay Key Chain', '853522:  Macy Key Chain', '853524:  Lance Key Chain', '853525:  Keychain NK Jestro', '853528:  NEXO KNIGHTS Monsters Sketch Book', '853529:  NINJAGO Customizable Sword', '853530:  NINJAGO Skybound Shield', '853532:  NINJAGO Armor', '853533:  NINJAGO Bandana', '853534:  Skybound Jay Key Chain', '853538:  Skybound Cole Key Chain', '853543:  Ninjago Party Set', '853544:  NINJAGO Accessory Set', '853547:  Emma Key Chain', '853548:  Andrea Key Chain', '853549:  Mia Key Chain', '853550:  Stephanie Key Chain', '853551:  Olivia Key Chain', '853552:  Friends Hand Foot Fun', '853555:  Campsite Scrapbook', '853556:  Friends Mini-Doll Campsite Set', '853559:  Emily Jones Key Chain', '853560:  Elves Azari the Fire Elf Key Chain', '853561:  Elves Aira the Wind Elf Key Chain', '853562:  Elves Naida the Water Elf Key Chain', '853563:  Elves Fledge the Baby Dragon Bag Charm', '853564:  Elves Me and My Dragon Display', \"853565:  Elves Emily Jones' Diary Sketch Book\", '853568:  Prison Guard Key Chain', '853569:  Notebook with Studs', '853570:  Police Accessory Set', '853571:  Hot Dog Guy Key Chain', '853572:  Bumble Bee Key Chain', '853573:  Yellow Car Bag Charm', '853574:  Christmas Ornament Reindeer', '853575:  Minifigure Cake Mold', '853580:  Key Rack', '853590:  Superman Key Chain ', '853591:  Batman Key Chain', '853592:  Black Widow Key Chain', '853593:  Captain America Key Chain', '853599:  New York Minifigure Magnet', '853600:  Statue of Liberty Magnet', '853601:  New York Key Chain', '853602:  Finn Key Chain', '853603:  Rey Key Chain', '853604:  BB 8 Key Chain', '853605:  Poe Dameron Key Chain ', '853609:  Skin Pack', '853610:  Skin Pack', '853611:  Marvel Super Heroes Minifigure Display Frame', '891609:  Kai', '891610:  Clouse', '891611:  Cole', '891612:  Sqiffy', \"891613:  Kai's Dragon\", '891614:  Cyren', '891615:  Jay', '891616:  Bucko ', '891617:  Titanium Zane', '891618:  Ronin', \"891619:  Pirate's Fighter\", '891620:  Nya', '911607:  Millennium Falcon', '911608:  Landspeeder', '911609:  Naboo Starfighter', '911610:  Probe Droid', '911611:  AAT', '911612:  Acklay', '911613:  TIE Bomber', \"911614:  Yoda's Hut\", '911615:  AT-AT', '911616:  MTT', \"911617:  Palpatine's Shuttle\", '2000447:  Mini Milo', '2000448:  Max and Mia', '2000451:  The Panama Canal', '2000711:  WeDo Replacement Pack 2', '2000715:  WeDo 2.0 Replacement Pack', '2000716:  FIRST LEGO League (FLL) Replacement Pack 2016 - Animal Allies', '2005544:  Education EV3 Design Engineering Projects', '2045300:  WeDo 2.0 Curriculum Pack', '3850007:  Elephant', '3850008:  Jet', '3850009:  Aircraft', '3850010:  Butterfly', '3850011:  Statue of Liberty', '3850012:  Truck', '3850013:  Turtle', '3850014:  Snowplough', '3850015:  Penguin', '4000022:  LEGO Truck Show', '4000023:  Jiaxing Factory 2016', '4002016:  50 Years on Track', '5002946:  Silver Centurion', '5004277:  4 stud Pink Storage Brick', '5004388:  Nexo Knights Intro Pack', '5004389:  Battle Station', \"5004390:  King's Guard\", '5004391:  Sky Pirates Battle', '5004393:  Cole', '5004395:  Jewelry and Sticker Pack', '5004398:  Friends Playmat', '5004401:  Wildlife Puzzle', '5004403:  Playmat', '5004404:  Police Chase', '5004406:  First Order General', '5004408:  Rebel A-wing Pilot', '5004409:  Accessory pack', '5004419:  Classic Knights Minifigure', '5004420:  Toy Soldier', '5004421:  Musicians minifigure collection', '5004422:  Warriors minifigure collection', '5004468:  Iconic Easter Minifigure', '5004538:  Wonder Woman Minifigure Alarm Clock', '5004573:  Athletes minifigure collection', '5004574:  Cops and Robbers minifigure collection', '5004612:  Lucy Wyldstyle Minifigure Link Watch', '5004720:  NINJAGO Shadow of Ronin ', '5004721:  NINJAGO Shadow of Ronin', '5004797:  The Joker Key Light', '5004833:  WeDo 2.0 ReadyGo Classroom Packs', '5004837:  WeDo 2.0 YouCreate Classroom Packs', '5004838:  WeDo 2.0 Add-On Power Pack', '5005011:  Anakin Skywalker Minifigure Watch', '5005015:  Classic Minifigure Link Watch', '5005017:  Yoda Minifigure Watch', '5005018:  Luke Skywalker Watch', '5005020:  4 stud Black Storage Brick', '5005027:  8 stud Bright Purple Storage Brick', '5005031:  8 stud Black Storage Brick', '5005032:  Darth Vader Watch', '5005041:  Superman Minifigure Link Watch', '5005042:  NINJAGO Luggage Tag', '5005043:  City Luggage Tag', '5005051:  Friends of Heartlake City Girlz 4 Life', '5005057:  Marvel Avengers XBOX 360 Video Game', '5005058:  Marvel Avengers Wii U Video Game', '5005059:  Marvel Avengers PS3 Video Game', '5005060:  Marvel Avengers Nintendo 3DS Video Game', \"5005098:  Stormtrooper Kid's Watch\", '5005099:  Batman Buildable Watch', '5005100:  Stephanie Watch with Mini-Doll', '5005107:  LEGO Buildable Ruler', '5005108:  LEGO Erasers (Blue Yellow)', '5005109:  LEGO 3 Pack Gel Pen Set', '5005110:  LEGO Brick Pencil Case (Red)', '5005111:  LEGO 9 Pack Graphite Pencils', '5005112:  LEGO Pencil Sharpeners', '5005113:  Aaron Minifigure Alarm Clock', '5005115:  Clay Minifigure Alarm Clock', '5005117:  Jay Minifigure Alarm Clock', '5005118:  Lloyd Minifigure Alarm Clock', '5005121:  Kai Minifigure Alarm Clock', '5005134:  Star Wars Episode VII poster ', '5005136:  The Force Awakens PS 4 Video Game – Deluxe Edition', '5005137:  The Force Awakens Xbox 360 Video Game', '5005138:  The Force Awakens Xbox One Video Game – Deluxe Edition', '5005139:  The Force Awakens PS 4 Video Game', '5005140:  The Force Awakens Xbox One Video Game', '5005141:  The Force Awakens Wii U Video Game', '5005144:  Journal with White Band', '5005145:  Stationery Organizer', '5005146:  9 Pack Gel Pen Set', '5005147:  9 Pack Marker Set', '5005148:  9 Pack Colored Pencil with Toppers Pack', '5005156:  Gingerbread Man', '5005160:  Stationery Kit', '5005182:  Nexo Knights Season 1 DVD', '6139025:  LEGO Mixels - Series 7 - Display Box', '6139030:  LEGO Mixels - Series 8 - Display Box', '6176782:  Escape the Space Slug', ' LEGO Star Wars: Droid Tales', ' Bordeaux, France, Exclusive Minifigure Pack', ' Justice League: Cosmic Clash DVD/Blu-Ray', ' Justice League: Gotham City Breakout DVD/Blu-ray', ' Lou Seal Buildable Figure', ' LEGO DC Super Heroes: Character Encyclopedia ', ' LEGO Nexo Knights: The Book of Knights', ' LEGO Ninjago Character Encyclopedia: Updated and Expanded', ' LEGO Star Wars: Build Your Own Adventure', ' LEGO City: Build Your Own Adventure', ' The Complete LEGO Minifigure Catalogue', ' Brick History: Amazing Historical Scenes to Build from LEGO', ' Building with Virtual LEGO: Getting Started with LEGO Digital Designer, LDraw, and Mecabricks', ' Brick History: A Brick History of the World in LEGO (US Edition)', ' Brick Animals: 40 Clever & Creative Ideas to Make from LEGO (US Edition)', ' Brick Cars: 40 Clever & Creative Ideas to Make from LEGO (US Edition)', ' The Ultimate Guide to Collectible Minifigures', ' LEGO Star Wars: Chronicles of the Force', ' 365 Things to Do with LEGO Bricks', ' The 2015 LEGO Minifigure Catalog: 1st Edition', ' The Star Wars LEGO Minifigure Catalog: 5th Edition', ' The 2014 LEGO Minifigure Catalog: 2nd Edition', ' The Middle Earth LEGO Minifigure Catalog', ' Tiny LEGO Wonders: Build 42 Impressive Miniscale Models', ' The LEGO Animation Book: Make Your Own LEGO Movies!', \" The Unofficial LEGO Technic Builder's Guide: 2nd Edition\", ' The LEGO Christmas Ornaments Book: 15 Designs to Spread Holiday Cheer', ' Geeky LEGO Crafts: 21 Fun and Quirky Projects', ' Awesome LEGO Creations with Bricks You Already Have', ' Birds from Bricks: Designs That Make LEGO Take Flight', ' Brick by Brick: Space', ' The Greatest LEGO Builds of All Time', ' Build It! Volume 1', ' Build It! Volume 2', ' Build It! Volume 3', ' Build It! World Landmarks', ' LEGO Trains - concepts and techniques for realistic models', ' LEGO Tips for Kids: LEGO Space', ' Lester', ' LEGO Mixels - Series 9 - Display Box', ' Batgirl', ' Paris Forum Des Halles Exclusive Minifigure Pack', ' Red Sox Player', ' San Francisco Exclusive Minifigure Pack', ' Steve Rogers Captain America', ' Atom', ' Stockholm minifigure collection', ' LEGO Star Wars: The Freemaker Adventures - Complete Season One (DVD/Blu-ray)', ' Captain America Mosaic', ' Cogsworth', ' Millennium Falcon', \" Frankenstein's Monster\", ' Lumiere', ' Nexo Knights Shield Dock ', \" Winner's Podium\"]\n"
     ]
    }
   ],
   "source": [
    "# Exercise #2\n",
    "def get_next_url(soup):\n",
    "    next_url = soup.find('li', attrs = {'class':'next'})\n",
    "    a = next_url.find('a')\n",
    "    if a is not None:\n",
    "        url = a.get('href')\n",
    "        return url\n",
    "    else: return None\n",
    "\n",
    "def parse_bricks(url):\n",
    "    titles = []\n",
    "    while url != None:\n",
    "        page = requests.get(url)\n",
    "        soup = BeautifulSoup(page.content, 'html.parser')\n",
    "        titles += get_titles(soup)\n",
    "        url = get_next_url(soup)\n",
    "    return titles\n",
    "\n",
    "def get_titles(soup):\n",
    "    list = soup.select('h1 a')\n",
    "    bar = [i.get_text() for i in list]\n",
    "    return bar\n",
    "\n",
    "bricks = parse_bricks(START_URL)\n",
    "print(bricks)\n",
    "\n",
    "# Now write code that gets you all the links from ALL the pages.\n",
    "\n",
    "# HINT: you will probably want to extract the URL in the \"next\" button on \n",
    "# the bottom of the search pagination, which looks like \">\".\n",
    "\n",
    "# HINT HINT: Think of the previous exercise on API's and internet data.\n",
    "# The Pokemon API returned JSON, that we converted to a dictionary, that\n",
    "# had a nice structure. In particular, there were two top-level keys of interest, \n",
    "# one had the \"results\" in a list, the other was the \"next\" url to call to get\n",
    "# more items. If you can replicate this return structure, you will be able to \n",
    "# almost reuse the while loop you had there!\n",
    "\n",
    "# HINT HINT HINT: There's no reason you shouldn't be able to reuse the previous \n",
    "# functions (get_titles and parse_bricks)\n",
    "\n"
   ]
  }
 ],
 "metadata": {
  "kernelspec": {
   "display_name": "Python 3",
   "language": "python",
   "name": "python3"
  },
  "language_info": {
   "codemirror_mode": {
    "name": "ipython",
    "version": 3
   },
   "file_extension": ".py",
   "mimetype": "text/x-python",
   "name": "python",
   "nbconvert_exporter": "python",
   "pygments_lexer": "ipython3",
   "version": "3.7.4"
  },
  "name": "exercises.ipynb",
  "toc": {
   "base_numbering": 1,
   "nav_menu": {},
   "number_sections": true,
   "sideBar": true,
   "skip_h1_title": false,
   "title_cell": "Table of Contents",
   "title_sidebar": "Contents",
   "toc_cell": false,
   "toc_position": {},
   "toc_section_display": true,
   "toc_window_display": false
  },
  "varInspector": {
   "cols": {
    "lenName": 16,
    "lenType": 16,
    "lenVar": 40
   },
   "kernels_config": {
    "python": {
     "delete_cmd_postfix": "",
     "delete_cmd_prefix": "del ",
     "library": "var_list.py",
     "varRefreshCmd": "print(var_dic_list())"
    },
    "r": {
     "delete_cmd_postfix": ") ",
     "delete_cmd_prefix": "rm(",
     "library": "var_list.r",
     "varRefreshCmd": "cat(var_dic_list()) "
    }
   },
   "position": {
    "height": "218px",
    "left": "1496px",
    "right": "20px",
    "top": "112px",
    "width": "350px"
   },
   "types_to_exclude": [
    "module",
    "function",
    "builtin_function_or_method",
    "instance",
    "_Feature"
   ],
   "window_display": true
  }
 },
 "nbformat": 4,
 "nbformat_minor": 2
}
